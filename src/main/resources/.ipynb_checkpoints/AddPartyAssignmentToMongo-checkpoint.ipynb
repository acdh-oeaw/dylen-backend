{
 "cells": [
  {
   "cell_type": "code",
   "execution_count": 5,
   "metadata": {},
   "outputs": [],
   "source": [
    "import pandas as pd\n",
    "\n",
    "assignment_list = pd.read_csv('../../../nationalrat.csv', sep=\";\", usecols=['Name', ' Party(_ties)'])\n",
    "assignment_list.columns = ['name', 'party']"
   ]
  },
  {
   "cell_type": "code",
   "execution_count": 6,
   "metadata": {},
   "outputs": [],
   "source": [
    "all_parties = [item.strip() \n",
    "               for sublist in [party.strip().split(',') \n",
    "                               for party in assignment_list['party'].unique()] for item in sublist]\n",
    "unique_parties = list(set(all_parties))\n",
    "unique_parties.sort()"
   ]
  },
  {
   "cell_type": "code",
   "execution_count": 7,
   "metadata": {},
   "outputs": [],
   "source": [
    "map_parties = {\n",
    "    'andere': 'andere',\n",
    "    'F': 'FPOe',\n",
    "    'F-BZÖ': 'BZOe',\n",
    "    'FPÖ': 'FPOe',\n",
    "    'GRÜNE': 'GRUeNE',\n",
    "    'ÖVP': 'OeVP',\n",
    "    'SPÖ': 'SPOe',\n",
    "    'KPÖ': 'KPOe',\n",
    "    'BZÖ': 'BZOe',\n",
    "    'NEOS': 'LIF-NEOS',\n",
    "    'NEOS-LIF': 'LIF-NEOS',\n",
    "    'PILZ': 'PILZ-JETZT',\n",
    "    'STRONACH': 'STRONACH'\n",
    "}"
   ]
  },
  {
   "cell_type": "markdown",
   "metadata": {},
   "source": [
    "# MongoDB version"
   ]
  },
  {
   "cell_type": "code",
   "execution_count": 1,
   "metadata": {},
   "outputs": [],
   "source": [
    "import pymongo\n",
    "\n",
    "myclient = pymongo.MongoClient(\"mongodb://localhost:27017\")"
   ]
  },
  {
   "cell_type": "code",
   "execution_count": 2,
   "metadata": {},
   "outputs": [],
   "source": [
    "mydb = myclient[\"dylen\"]\n",
    "mycol = mydb[\"generalNet\"]"
   ]
  },
  {
   "cell_type": "code",
   "execution_count": 91,
   "metadata": {},
   "outputs": [],
   "source": [
    "# reset\n",
    "for party in unique_parties:\n",
    "    if party in map_parties.keys():\n",
    "        myquery_party = {\"entity\": map_parties[party], \n",
    "                         \"available_years\": {\"$exists\": True}}\n",
    "\n",
    "        mycol.update_many(myquery_party, {'$set': {'speakers': []}})"
   ]
  },
  {
   "cell_type": "code",
   "execution_count": 92,
   "metadata": {},
   "outputs": [],
   "source": [
    "speakers_per_party = dict()\n",
    "\n",
    "for idx, row in assignment_list.iterrows():\n",
    "    myquery = { \"entity_name\": f\"{row['name']}\", \"available_years\": {\"$exists\": True}}\n",
    "    \n",
    "    for result in mycol.find(myquery):\n",
    "        speaker_return = result['entity_name']\n",
    "        parties = [party.strip() for party in row['party'].split(',')]\n",
    "        \n",
    "        for party in parties:\n",
    "            if party in map_parties.keys():\n",
    "                party = map_parties[party]\n",
    "            else:\n",
    "                party = 'andere'\n",
    "            \n",
    "            if party in speakers_per_party.keys():\n",
    "                speakers_per_party[party].append(speaker_return)\n",
    "            else:\n",
    "                speakers_per_party[party] = [speaker_return]\n"
   ]
  },
  {
   "cell_type": "code",
   "execution_count": null,
   "metadata": {},
   "outputs": [],
   "source": [
    "for assignment in speakers_per_party:\n",
    "    myquery_party = {\"entity\": assignment, \n",
    "                     \"entity_name\": {\"$exists\": False}, \n",
    "                     \"available_years\": {\"$exists\": True}}\n",
    "        \n",
    "    list_politicians = list(set(speakers_per_party[assignment]))\n",
    "    list_politicians.sort()\n",
    "    \n",
    "    for politician in list_politicians:\n",
    "        mycol.update_one(myquery_party, {'$push': {'speakers': politician}})"
   ]
  },
  {
   "cell_type": "markdown",
   "metadata": {},
   "source": [
    "# JSON version"
   ]
  },
  {
   "cell_type": "code",
   "execution_count": 8,
   "metadata": {},
   "outputs": [],
   "source": [
    "import glob as glob\n",
    "\n",
    "data_walk = glob.glob('../../../ParlAT_general/party/**/time_series.json')"
   ]
  },
  {
   "cell_type": "code",
   "execution_count": 9,
   "metadata": {},
   "outputs": [
    {
     "name": "stdout",
     "output_type": "stream",
     "text": [
      "../../../ParlAT_general/party/STRONACH/time_series.json\n",
      "../../../ParlAT_general/party/GRUeNE/time_series.json\n",
      "../../../ParlAT_general/party/andere/time_series.json\n",
      "../../../ParlAT_general/party/LIF-NEOS/time_series.json\n",
      "../../../ParlAT_general/party/SPOe/time_series.json\n",
      "../../../ParlAT_general/party/FPOe/time_series.json\n",
      "../../../ParlAT_general/party/parteilos/time_series.json\n",
      "../../../ParlAT_general/party/OeVP/time_series.json\n",
      "../../../ParlAT_general/party/BZOe/time_series.json\n"
     ]
    }
   ],
   "source": [
    "import json as json_obj\n",
    "\n",
    "for path in data_walk:\n",
    "    print(path)\n",
    "    f = open(path, 'r')\n",
    "    content = f.read()\n",
    "    json_content = json_obj.loads(content)\n",
    "        \n",
    "    json_content['speakers'] = []\n",
    "    \n",
    "    fw = open(path, 'w')\n",
    "    json_obj.dump(json_content, fw)"
   ]
  },
  {
   "cell_type": "code",
   "execution_count": 10,
   "metadata": {},
   "outputs": [],
   "source": [
    "speakers_per_party = dict()\n",
    "\n",
    "for idx, row in assignment_list.iterrows():\n",
    "    speaker_return = row['name']\n",
    "    parties = [party.strip() for party in row['party'].split(',')]\n",
    "        \n",
    "    for party in parties:\n",
    "        if party in map_parties.keys():\n",
    "            party = map_parties[party]\n",
    "        else:\n",
    "            party = 'andere'\n",
    "            \n",
    "        if party in speakers_per_party.keys():\n",
    "            speakers_per_party[party].append(speaker_return)\n",
    "        else:\n",
    "            speakers_per_party[party] = [speaker_return]"
   ]
  },
  {
   "cell_type": "code",
   "execution_count": 11,
   "metadata": {},
   "outputs": [
    {
     "name": "stdout",
     "output_type": "stream",
     "text": [
      "No file found for PILZ-JETZT\n",
      "No file found for KPOe\n"
     ]
    }
   ],
   "source": [
    "for assignment in speakers_per_party:\n",
    "    list_politicians = list(set(speakers_per_party[assignment]))\n",
    "    list_politicians.sort()\n",
    "    \n",
    "    path = f'../../../ParlAT_general/party/{assignment}/time_series.json'\n",
    "    try:\n",
    "        f = open(path, 'r')\n",
    "        content = f.read()\n",
    "        json_content = json_obj.loads(content)\n",
    "\n",
    "        json_content['speakers'] = list_politicians\n",
    "\n",
    "        fw = open(path, 'w')\n",
    "        json_obj.dump(json_content, fw)\n",
    "    except:\n",
    "        print('No file found for', assignment)"
   ]
  },
  {
   "cell_type": "markdown",
   "metadata": {},
   "source": [
    "<-- Set mongod export PATH\n",
    "`ls -1 */**/*.json | while read jsonfile; do mongoimport --uri \"mongodb://localhost:27017/dylen\" -c generalNet --file $jsonfile --type json;done`"
   ]
  },
  {
   "cell_type": "code",
   "execution_count": null,
   "metadata": {},
   "outputs": [],
   "source": []
  }
 ],
 "metadata": {
  "kernelspec": {
   "display_name": "Python 3",
   "language": "python",
   "name": "python3"
  },
  "language_info": {
   "codemirror_mode": {
    "name": "ipython",
    "version": 3
   },
   "file_extension": ".py",
   "mimetype": "text/x-python",
   "name": "python",
   "nbconvert_exporter": "python",
   "pygments_lexer": "ipython3",
   "version": "3.8.3"
  }
 },
 "nbformat": 4,
 "nbformat_minor": 4
}
