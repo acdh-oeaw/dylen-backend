{
 "cells": [
  {
   "cell_type": "code",
   "execution_count": 1,
   "metadata": {},
   "outputs": [],
   "source": [
    "import pymongo\n",
    "\n",
    "myclient = pymongo.MongoClient(\"mongodb://localhost:27017\")"
   ]
  },
  {
   "cell_type": "code",
   "execution_count": 2,
   "metadata": {},
   "outputs": [],
   "source": [
    "mydb = myclient[\"dylen\"]\n",
    "mycol = mydb[\"generalNet\"]"
   ]
  },
  {
   "cell_type": "code",
   "execution_count": 4,
   "metadata": {},
   "outputs": [],
   "source": [
    "import pandas as pd\n",
    "\n",
    "assignment_list = pd.read_csv('../../../nationalrat.csv', sep=\";\", usecols=['Name', ' Party(_ties)'])\n",
    "assignment_list.columns = ['name', 'party']"
   ]
  },
  {
   "cell_type": "code",
   "execution_count": null,
   "metadata": {},
   "outputs": [],
   "source": [
    "assignment_list"
   ]
  },
  {
   "cell_type": "code",
   "execution_count": null,
   "metadata": {},
   "outputs": [],
   "source": [
    "for idx, row in assignment_list.iterrows():\n",
    "    myquery = { \"entity_name\": f\"{row['name']}\" }\n",
    "\n",
    "    for result in mycol.find(myquery):\n",
    "        speaker_return = result['entity_name']\n",
    "        parties = [party.strip() for party in row['party'].split(',')]\n",
    "        print(speaker_return + '...')\n",
    "        mycol.update(myquery, {'$set':{'party': parties}})"
   ]
  },
  {
   "cell_type": "code",
   "execution_count": null,
   "metadata": {},
   "outputs": [],
   "source": []
  }
 ],
 "metadata": {
  "kernelspec": {
   "display_name": "Python 3",
   "language": "python",
   "name": "python3"
  },
  "language_info": {
   "codemirror_mode": {
    "name": "ipython",
    "version": 3
   },
   "file_extension": ".py",
   "mimetype": "text/x-python",
   "name": "python",
   "nbconvert_exporter": "python",
   "pygments_lexer": "ipython3",
   "version": "3.8.3"
  }
 },
 "nbformat": 4,
 "nbformat_minor": 4
}
