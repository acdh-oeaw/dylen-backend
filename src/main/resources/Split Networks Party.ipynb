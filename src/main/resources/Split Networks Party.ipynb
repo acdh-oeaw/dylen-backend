{
 "cells": [
  {
   "cell_type": "code",
   "execution_count": 19,
   "metadata": {},
   "outputs": [],
   "source": [
    "from glob import glob\n",
    "data_walk = glob(\"../../../ParlAT_general/party/*/networks*.json\")"
   ]
  },
  {
   "cell_type": "code",
   "execution_count": 20,
   "metadata": {},
   "outputs": [
    {
     "name": "stdout",
     "output_type": "stream",
     "text": [
      "../../../ParlAT_general/party/STRONACH/networks.json\n",
      "../../../ParlAT_general/party/GRUeNE/networks.json\n",
      "../../../ParlAT_general/party/andere/networks.json\n",
      "../../../ParlAT_general/party/LIF-NEOS/networks.json\n",
      "../../../ParlAT_general/party/SPOe/networks.json\n",
      "../../../ParlAT_general/party/FPOe/networks.json\n",
      "../../../ParlAT_general/party/parteilos/networks.json\n",
      "../../../ParlAT_general/party/OeVP/networks.json\n",
      "../../../ParlAT_general/party/PILZ-JETZT/networks.json\n",
      "../../../ParlAT_general/party/BZOe/networks.json\n"
     ]
    }
   ],
   "source": [
    "import json as json_obj\n",
    "\n",
    "for path in data_walk:\n",
    "    print(path)\n",
    "    f = open(path, 'r')\n",
    "    content = f.read()\n",
    "    json_content = json_obj.loads(content)\n",
    "    \n",
    "    for network in json_content['networks']:\n",
    "        new_json = dict()\n",
    "        new_json['type'] = json_content['type']\n",
    "        new_json['entity'] = json_content['entity']\n",
    "        new_json['networks'] = network\n",
    "        \n",
    "        with open(path[:-5] + '_' + network['year'] + '.json', 'w') as f:\n",
    "            json_obj.dump(new_json, f)"
   ]
  },
  {
   "cell_type": "code",
   "execution_count": 21,
   "metadata": {},
   "outputs": [],
   "source": [
    "import os\n",
    "data_walk_update = glob(\"../../../ParlAT_general/party/*/networks.json\")\n",
    "\n",
    "for path in data_walk_update:\n",
    "    os.remove(path)"
   ]
  },
  {
   "cell_type": "code",
   "execution_count": null,
   "metadata": {},
   "outputs": [],
   "source": []
  }
 ],
 "metadata": {
  "kernelspec": {
   "display_name": "Python 3",
   "language": "python",
   "name": "python3"
  },
  "language_info": {
   "codemirror_mode": {
    "name": "ipython",
    "version": 3
   },
   "file_extension": ".py",
   "mimetype": "text/x-python",
   "name": "python",
   "nbconvert_exporter": "python",
   "pygments_lexer": "ipython3",
   "version": "3.8.3"
  }
 },
 "nbformat": 4,
 "nbformat_minor": 4
}
